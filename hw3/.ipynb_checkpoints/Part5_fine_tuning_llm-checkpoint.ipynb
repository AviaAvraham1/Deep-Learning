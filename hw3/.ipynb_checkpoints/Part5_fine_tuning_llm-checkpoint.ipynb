{
 "cells": [
  {
   "cell_type": "code",
<<<<<<< HEAD
   "execution_count": 1,
=======
   "execution_count": null,
>>>>>>> dd0feb20bdd90d858cf30993ea116ddb553e59b9
   "id": "0aa38025-1a01-4353-abaf-5a69c0c47c75",
   "metadata": {},
   "outputs": [],
   "source": [
    "import numpy as np\n",
    "import pandas as pd\n",
    "import torch\n",
    "import unittest\n",
    "import os\n",
    "import sys\n",
    "import pathlib\n",
    "import urllib\n",
    "import shutil\n",
    "import re\n",
    "\n",
    "import numpy as np\n",
    "import torch\n",
    "import matplotlib.pyplot as plt\n",
    "\n",
    "import pickle\n",
    "\n",
    "\n",
    "%load_ext autoreload\n",
    "%autoreload 2"
   ]
  },
  {
   "cell_type": "code",
<<<<<<< HEAD
   "execution_count": 2,
=======
   "execution_count": null,
>>>>>>> dd0feb20bdd90d858cf30993ea116ddb553e59b9
   "id": "11cce924-9bd4-45f2-a0df-73394bacabb1",
   "metadata": {},
   "outputs": [],
   "source": [
    "from torch.utils.data import DataLoader, Dataset\n",
    "\n",
    "import numpy as np\n",
    "from datasets import DatasetDict\n",
<<<<<<< HEAD
    "from datasets import load_dataset, concatenate_datasets\n",
=======
    "from datasets import load_dataset, load_metric, concatenate_datasets\n",
>>>>>>> dd0feb20bdd90d858cf30993ea116ddb553e59b9
    "\n",
    "from hw3 import training\n",
    "\n",
    "\n",
    "from cs236781.plot import plot_fit\n",
    "from cs236781.train_results import FitResult"
   ]
  },
  {
   "cell_type": "markdown",
   "id": "626375cb-dd6d-4b0e-9d42-8c8bb234e9e1",
   "metadata": {},
   "source": [
    "$$\n",
    "\\newcommand{\\mat}[1]{\\boldsymbol {#1}}\n",
    "\\newcommand{\\mattr}[1]{\\boldsymbol {#1}^\\top}\n",
    "\\newcommand{\\matinv}[1]{\\boldsymbol {#1}^{-1}}\n",
    "\\newcommand{\\vec}[1]{\\boldsymbol {#1}}\n",
    "\\newcommand{\\vectr}[1]{\\boldsymbol {#1}^\\top}\n",
    "\\newcommand{\\rvar}[1]{\\mathrm {#1}}\n",
    "\\newcommand{\\rvec}[1]{\\boldsymbol{\\mathrm{#1}}}\n",
    "\\newcommand{\\diag}{\\mathop{\\mathrm {diag}}}\n",
    "\\newcommand{\\set}[1]{\\mathbb {#1}}\n",
    "\\newcommand{\\norm}[1]{\\left\\lVert#1\\right\\rVert}\n",
    "\\newcommand{\\pderiv}[2]{\\frac{\\partial #1}{\\partial #2}}\n",
    "\\newcommand{\\bb}[1]{\\boldsymbol{#1}}\n",
    "$$\n",
    "# Part 4: Fine-Tuning a pretrained language model\n",
    "<a id=part3></a>"
   ]
  },
  {
   "cell_type": "markdown",
   "id": "ab08167a-6cac-4d03-806a-e60974e81f75",
   "metadata": {},
   "source": [
    "In this part , we will deal with the fine-tuning of BERT for sentiment analysis on the IMDB movie reivews dataset from the previous section.   \n",
    "BERT is a large language model developed by Google researchers in 2019 that offers a good balance between popularity and model size, which can be fine-tuned using a simple GPU.  \n",
    "\n",
    "If you aren't yet familiar, you can check it out here:  \n",
    "https://arxiv.org/pdf/1810.04805.pdf.\n",
    "(Read Section 3 for details on the model architecture and fine-tuning on downstream tasks).\n",
    "\n",
    "In particular, we will use the distilled (smaller) version of BERT, called Distil-BERT.\n",
    "Distil-BERT is widely used in production since it has 40% fewer parameters than BERT, while running 60% faster and retaining 95% of the performance in many benchmarks.\n",
    "It is recommended to glance through the Distil-BERT paper to get a feel for the model architecture and how it differs from BERT: \n",
    "https://arxiv.org/pdf/1910.01108.pdf\n",
    "\n",
    "We will download a pre-trained `Distil-BERT` from `Hugging Face`, so there is no need to train it from scratch. \n",
    "\n",
    "One of the key strengths of Hugging Face is its extensive collection of pre-trained models. These models are trained on large-scale datasets and exhibit impressive performance on various NLP tasks, such as text classification, named entity recognition, sentiment analysis, machine translation, and question answering, among others. The pre-trained models provided by Hugging Face can be easily fine-tuned for specific downstream tasks, saving significant time and computational resources.  \n"
   ]
  },
  {
   "cell_type": "markdown",
   "id": "3a61922e-8ee9-40bd-8abc-7b98d5515f0b",
   "metadata": {},
   "source": [
    "## Loading the Dataset"
   ]
  },
  {
   "cell_type": "markdown",
   "id": "326fe1ca-c764-4186-bfee-7a80e8caa0a8",
   "metadata": {},
   "source": [
    "We will now load and prepare the IMDB dataset as we did in the previous part.  \n",
    "Here we will load the full training and test set.\n"
   ]
  },
  {
   "cell_type": "code",
<<<<<<< HEAD
   "execution_count": 3,
=======
   "execution_count": null,
>>>>>>> dd0feb20bdd90d858cf30993ea116ddb553e59b9
   "id": "e81cd1ad-5ab0-418a-a339-4e7f7b95666f",
   "metadata": {
    "scrolled": true
   },
   "outputs": [],
   "source": [
    "dataset = load_dataset('imdb', split=['train', 'test[12260:12740]'])"
   ]
  },
  {
   "cell_type": "code",
<<<<<<< HEAD
   "execution_count": 4,
=======
   "execution_count": null,
>>>>>>> dd0feb20bdd90d858cf30993ea116ddb553e59b9
   "id": "146165ca-7636-46fe-bd16-1e964d6c41b9",
   "metadata": {
    "scrolled": true
   },
<<<<<<< HEAD
   "outputs": [
    {
     "name": "stdout",
     "output_type": "stream",
     "text": [
      "[Dataset({\n",
      "    features: ['text', 'label'],\n",
      "    num_rows: 25000\n",
      "}), Dataset({\n",
      "    features: ['text', 'label'],\n",
      "    num_rows: 480\n",
      "})]\n"
     ]
    }
   ],
=======
   "outputs": [],
>>>>>>> dd0feb20bdd90d858cf30993ea116ddb553e59b9
   "source": [
    "print(dataset)"
   ]
  },
  {
   "cell_type": "code",
<<<<<<< HEAD
   "execution_count": 5,
=======
   "execution_count": null,
>>>>>>> dd0feb20bdd90d858cf30993ea116ddb553e59b9
   "id": "e3dead5a-4b2e-400f-8551-c7fd44179627",
   "metadata": {},
   "outputs": [],
   "source": [
    "#wrap it in a DatasetDict to enable methods such as map and format\n",
    "dataset = DatasetDict({'train': dataset[0], 'test': dataset[1]})"
   ]
  },
  {
   "cell_type": "code",
<<<<<<< HEAD
   "execution_count": 6,
   "id": "f07b25d3-0912-4586-b60b-6dc66e6746bc",
   "metadata": {},
   "outputs": [
    {
     "data": {
      "text/plain": [
       "DatasetDict({\n",
       "    train: Dataset({\n",
       "        features: ['text', 'label'],\n",
       "        num_rows: 25000\n",
       "    })\n",
       "    test: Dataset({\n",
       "        features: ['text', 'label'],\n",
       "        num_rows: 480\n",
       "    })\n",
       "})"
      ]
     },
     "execution_count": 6,
     "metadata": {},
     "output_type": "execute_result"
    }
   ],
=======
   "execution_count": null,
   "id": "f07b25d3-0912-4586-b60b-6dc66e6746bc",
   "metadata": {},
   "outputs": [],
>>>>>>> dd0feb20bdd90d858cf30993ea116ddb553e59b9
   "source": [
    "dataset"
   ]
  },
  {
   "cell_type": "markdown",
   "id": "f6b6ef0b-70e3-4ec5-83fb-b8b779237ef6",
   "metadata": {},
   "source": [
    "We can now access the datasets in the Dict as we would a dictionary.\n",
    "Let's print a few training samples"
   ]
  },
  {
   "cell_type": "code",
<<<<<<< HEAD
   "execution_count": 7,
=======
   "execution_count": null,
>>>>>>> dd0feb20bdd90d858cf30993ea116ddb553e59b9
   "id": "7dccf69f-4f53-4f96-a882-c6ca6a5e0b3c",
   "metadata": {
    "scrolled": true
   },
<<<<<<< HEAD
   "outputs": [
    {
     "name": "stdout",
     "output_type": "stream",
     "text": [
      "TRAINING SAMPLE 0:\n",
      "I rented I AM CURIOUS-YELLOW from my video store because of all the controversy that surrounded it when it was first released in 1967. I also heard that at first it was seized by U.S. customs if it ever tried to enter this country, therefore being a fan of films considered \"controversial\" I really had to see this for myself.<br /><br />The plot is centered around a young Swedish drama student named Lena who wants to learn everything she can about life. In particular she wants to focus her attentions to making some sort of documentary on what the average Swede thought about certain political issues such as the Vietnam War and race issues in the United States. In between asking politicians and ordinary denizens of Stockholm about their opinions on politics, she has sex with her drama teacher, classmates, and married men.<br /><br />What kills me about I AM CURIOUS-YELLOW is that 40 years ago, this was considered pornographic. Really, the sex and nudity scenes are few and far between, even then it's not shot like some cheaply made porno. While my countrymen mind find it shocking, in reality sex and nudity are a major staple in Swedish cinema. Even Ingmar Bergman, arguably their answer to good old boy John Ford, had sex scenes in his films.<br /><br />I do commend the filmmakers for the fact that any sex shown in the film is shown for artistic purposes rather than just to shock people and make money to be shown in pornographic theaters in America. I AM CURIOUS-YELLOW is a good film for anyone wanting to study the meat and potatoes (no pun intended) of Swedish cinema. But really, this film doesn't have much of a plot.\n",
      "Label 0: 0\n",
      "\n",
      "\n",
      "TRAINING SAMPLE 1:\n",
      "\"I Am Curious: Yellow\" is a risible and pretentious steaming pile. It doesn't matter what one's political views are because this film can hardly be taken seriously on any level. As for the claim that frontal male nudity is an automatic NC-17, that isn't true. I've seen R-rated films with male nudity. Granted, they only offer some fleeting views, but where are the R-rated films with gaping vulvas and flapping labia? Nowhere, because they don't exist. The same goes for those crappy cable shows: schlongs swinging in the breeze but not a clitoris in sight. And those pretentious indie movies like The Brown Bunny, in which we're treated to the site of Vincent Gallo's throbbing johnson, but not a trace of pink visible on Chloe Sevigny. Before crying (or implying) \"double-standard\" in matters of nudity, the mentally obtuse should take into account one unavoidably obvious anatomical difference between men and women: there are no genitals on display when actresses appears nude, and the same cannot be said for a man. In fact, you generally won't see female genitals in an American film in anything short of porn or explicit erotica. This alleged double-standard is less a double standard than an admittedly depressing ability to come to terms culturally with the insides of women's bodies.\n",
      "Label 1: 0\n",
      "\n",
      "\n",
      "TRAINING SAMPLE 2:\n",
      "If only to avoid making this type of film in the future. This film is interesting as an experiment but tells no cogent story.<br /><br />One might feel virtuous for sitting thru it because it touches on so many IMPORTANT issues but it does so without any discernable motive. The viewer comes away with no new perspectives (unless one comes up with one while one's mind wanders, as it will invariably do during this pointless film).<br /><br />One might better spend one's time staring out a window at a tree growing.<br /><br />\n",
      "Label 2: 0\n",
      "\n",
      "\n",
      "TRAINING SAMPLE 3:\n",
      "This film was probably inspired by Godard's Masculin, féminin and I urge you to see that film instead.<br /><br />The film has two strong elements and those are, (1) the realistic acting (2) the impressive, undeservedly good, photo. Apart from that, what strikes me most is the endless stream of silliness. Lena Nyman has to be most annoying actress in the world. She acts so stupid and with all the nudity in this film,...it's unattractive. Comparing to Godard's film, intellectuality has been replaced with stupidity. Without going too far on this subject, I would say that follows from the difference in ideals between the French and the Swedish society.<br /><br />A movie of its time, and place. 2/10.\n",
      "Label 3: 0\n",
      "\n",
      "\n"
     ]
    }
   ],
=======
   "outputs": [],
>>>>>>> dd0feb20bdd90d858cf30993ea116ddb553e59b9
   "source": [
    "for i in range(4):\n",
    "    print(f'TRAINING SAMPLE {i}:') \n",
    "    print(dataset['train'][i]['text'])\n",
    "    label = dataset['train'][i]['label']\n",
    "    print(f'Label {i}: {label}')\n",
    "    print('\\n')"
   ]
  },
  {
   "cell_type": "markdown",
   "id": "cea96efc-beee-4bd0-9810-ae4d3a4f2da8",
   "metadata": {},
   "source": [
    "We should also check the label distribution:"
   ]
  },
  {
   "cell_type": "code",
<<<<<<< HEAD
   "execution_count": 8,
   "id": "3eb8333b-9271-41b8-845f-3f1694d93145",
   "metadata": {},
   "outputs": [
    {
     "name": "stdout",
     "output_type": "stream",
     "text": [
      "negative samples in train dataset: 12500\n",
      "positive samples in train dataset: 12500\n",
      "negative samples in test dataset: 240\n",
      "positive samples in test dataset: 240\n"
     ]
    }
   ],
=======
   "execution_count": null,
   "id": "3eb8333b-9271-41b8-845f-3f1694d93145",
   "metadata": {},
   "outputs": [],
>>>>>>> dd0feb20bdd90d858cf30993ea116ddb553e59b9
   "source": [
    "def label_cnt(type):\n",
    "    ds = dataset[type]\n",
    "    size = len(ds)\n",
    "    cnt= 0 \n",
    "    for smp in ds:\n",
    "        cnt += smp['label']\n",
    "    print(f'negative samples in {type} dataset: {size - cnt}')\n",
    "    print(f'positive samples in {type} dataset: {cnt}')\n",
    "    \n",
    "label_cnt('train')\n",
    "label_cnt('test')"
   ]
  },
  {
   "cell_type": "markdown",
   "id": "34eb5437-c7ca-45ff-ba09-43cc8a8bb916",
   "metadata": {},
   "source": [
    "### __Import the tokenizer for the dataset__"
   ]
  },
  {
   "cell_type": "markdown",
   "id": "c7e913e8-9dbc-4f3a-8315-920e016082d1",
   "metadata": {},
   "source": [
    "\n",
    "We will now tokenize the text the same way we did in the previous part.\n",
    "\n"
   ]
  },
  {
   "cell_type": "code",
<<<<<<< HEAD
   "execution_count": 9,
   "id": "3b1f2f64-07ad-4260-a790-55a0c6f636b5",
   "metadata": {},
   "outputs": [
    {
     "name": "stdout",
     "output_type": "stream",
     "text": [
      "Tokenizer input max length: 512\n",
      "Tokenizer vocabulary size: 30522\n"
     ]
    }
   ],
=======
   "execution_count": null,
   "id": "3b1f2f64-07ad-4260-a790-55a0c6f636b5",
   "metadata": {},
   "outputs": [],
>>>>>>> dd0feb20bdd90d858cf30993ea116ddb553e59b9
   "source": [
    "from transformers import AutoTokenizer\n",
    "\n",
    "tokenizer = AutoTokenizer.from_pretrained(\"distilbert-base-uncased\")\n",
    "print(\"Tokenizer input max length:\", tokenizer.model_max_length)\n",
    "print(\"Tokenizer vocabulary size:\", tokenizer.vocab_size)"
   ]
  },
  {
   "cell_type": "code",
<<<<<<< HEAD
   "execution_count": 10,
=======
   "execution_count": null,
>>>>>>> dd0feb20bdd90d858cf30993ea116ddb553e59b9
   "id": "dc753304-4f5a-4ec5-ac2c-04a02f85c68e",
   "metadata": {
    "editable": true,
    "scrolled": true,
    "slideshow": {
     "slide_type": ""
    },
    "tags": []
   },
   "outputs": [],
   "source": [
    "def tokenize_text(batch):\n",
    "    return tokenizer(batch[\"text\"], truncation=True, padding=True)\n",
    "\n",
    "def tokenize_dataset(dataset):\n",
    "    dataset_tokenized = dataset.map(tokenize_text, batched=True, batch_size =None)\n",
    "    return dataset_tokenized\n",
    "\n",
    "dataset_tokenized = tokenize_dataset(dataset)\n",
    "# we would like to work with pytorch so we can manually fine-tune\n",
    "dataset_tokenized.set_format(\"torch\", columns=[\"input_ids\", \"attention_mask\", \"label\"])\n",
    "# no need to parrarelize in this assignment\n",
    "os.environ[\"TOKENIZERS_PARALLELISM\"] = \"false\""
   ]
  },
  {
   "cell_type": "markdown",
   "id": "51f20fb7-d8f7-41a7-8464-33b5ab488eea",
   "metadata": {
    "tags": []
   },
   "source": [
    "### Setting up the dataloaders and dataset"
   ]
  },
  {
   "cell_type": "markdown",
   "id": "345bb695-5ebc-4927-983e-9880fedf3627",
   "metadata": {},
   "source": [
    "We will now set up the dataloaders for efficient batching and loading of the data.  \n",
    "By now, you are familiar with the Class methods that are needed to create a working Dataloader.\n"
   ]
  },
  {
   "cell_type": "code",
<<<<<<< HEAD
   "execution_count": 11,
=======
   "execution_count": null,
>>>>>>> dd0feb20bdd90d858cf30993ea116ddb553e59b9
   "id": "99a6770a-d5d1-4fb0-a7e7-bb15e0cba57b",
   "metadata": {},
   "outputs": [],
   "source": [
    "class IMDBDataset(Dataset):\n",
    "    def __init__(self, dataset):\n",
    "        self.ds = dataset\n",
    "\n",
    "    def __getitem__(self, index):\n",
    "        return self.ds[index]\n",
    "\n",
    "    def __len__(self):\n",
    "        return self.ds.num_rows"
   ]
  },
  {
   "cell_type": "code",
<<<<<<< HEAD
   "execution_count": 12,
=======
   "execution_count": null,
>>>>>>> dd0feb20bdd90d858cf30993ea116ddb553e59b9
   "id": "a5e7119d-62fb-4e80-915d-79d25edde074",
   "metadata": {},
   "outputs": [],
   "source": [
    "train_dataset = IMDBDataset(dataset_tokenized['train'])\n",
    "test_dataset = IMDBDataset(dataset_tokenized['test'])"
   ]
  },
  {
   "cell_type": "code",
<<<<<<< HEAD
   "execution_count": 13,
=======
   "execution_count": null,
>>>>>>> dd0feb20bdd90d858cf30993ea116ddb553e59b9
   "id": "b332f651-1a7c-45d4-949f-a09ad2c635db",
   "metadata": {
    "editable": true,
    "slideshow": {
     "slide_type": ""
    },
    "tags": []
   },
   "outputs": [],
   "source": [
    "\n",
    "n_workers= 0\n",
    "\n",
    "dl_train,dl_test = [ \n",
    "    DataLoader(\n",
    "    dataset=train_dataset,\n",
    "    batch_size=12,\n",
    "    shuffle=True, \n",
    "    num_workers=n_workers\n",
    "),\n",
    "DataLoader(\n",
    "    dataset=test_dataset,\n",
    "    batch_size=12,\n",
    "    shuffle=False,\n",
    "    num_workers=n_workers\n",
    ")]"
   ]
  },
  {
   "cell_type": "code",
<<<<<<< HEAD
   "execution_count": 14,
   "id": "cc6401fe-0590-4dec-8679-b9d0e36123d7",
   "metadata": {},
   "outputs": [
    {
     "data": {
      "text/plain": [
       "<torch.utils.data.dataloader.DataLoader at 0x7f7c449f6bb0>"
      ]
     },
     "execution_count": 14,
     "metadata": {},
     "output_type": "execute_result"
    }
   ],
=======
   "execution_count": null,
   "id": "cc6401fe-0590-4dec-8679-b9d0e36123d7",
   "metadata": {},
   "outputs": [],
>>>>>>> dd0feb20bdd90d858cf30993ea116ddb553e59b9
   "source": [
    "dl_train"
   ]
  },
  {
   "cell_type": "markdown",
   "id": "00f020ce-572c-4e8f-869e-5b92f36b6313",
   "metadata": {
    "editable": true,
    "slideshow": {
     "slide_type": ""
    },
    "tags": []
   },
   "source": [
    "## Importing the model from Hugging Face\n",
    "We will now  delve into the process of loading the DistilBERT model from `Hugging Face`. DistilBERT is a distilled version of the BERT model, offering a lighter and faster alternative while retaining considerable performance on various NLP tasks.  \n",
    "Please refer to the introduction to check out the relevant papers.  \n",
    "For more info on how to use this model, feel free to check it out on the site:  \n",
    "https://huggingface.co/distilbert-base-uncased \n",
    "\n"
   ]
  },
  {
   "cell_type": "markdown",
   "id": "ceee7eef-3ce5-4026-8731-316dc4f2c53b",
   "metadata": {},
   "source": [
    "To begin, we will import the necessary library required for our implementation.\n",
    "It is fine if you receive a warning from `Hugging Face` to train the model on a downstream task, which is exactly what we will do on our IMDB dataset. "
   ]
  },
  {
   "cell_type": "code",
<<<<<<< HEAD
   "execution_count": 15,
=======
   "execution_count": null,
>>>>>>> dd0feb20bdd90d858cf30993ea116ddb553e59b9
   "id": "d1a936c1-b62f-4be3-a7e0-dc4a25af1686",
   "metadata": {},
   "outputs": [],
   "source": [
    "from transformers import AutoModelForSequenceClassification\n"
   ]
  },
  {
   "cell_type": "code",
<<<<<<< HEAD
   "execution_count": 16,
   "id": "c9135d51-fe93-48b3-bbd1-327d475b983c",
   "metadata": {},
   "outputs": [
    {
     "name": "stderr",
     "output_type": "stream",
     "text": [
      "Some weights of DistilBertForSequenceClassification were not initialized from the model checkpoint at distilbert-base-uncased and are newly initialized: ['classifier.bias', 'classifier.weight', 'pre_classifier.bias', 'pre_classifier.weight']\n",
      "You should probably TRAIN this model on a down-stream task to be able to use it for predictions and inference.\n"
     ]
    }
   ],
=======
   "execution_count": null,
   "id": "c9135d51-fe93-48b3-bbd1-327d475b983c",
   "metadata": {},
   "outputs": [],
>>>>>>> dd0feb20bdd90d858cf30993ea116ddb553e59b9
   "source": [
    "model = AutoModelForSequenceClassification.from_pretrained(\n",
    "    \"distilbert-base-uncased\", num_labels=2)"
   ]
  },
  {
   "cell_type": "markdown",
   "id": "dc6993c8-c9d0-4aa5-a1bf-a7ff4555cc9b",
   "metadata": {},
   "source": [
    "__Let's print the model architecture to see what we are dealing with:__"
   ]
  },
  {
   "cell_type": "code",
<<<<<<< HEAD
   "execution_count": 17,
=======
   "execution_count": null,
>>>>>>> dd0feb20bdd90d858cf30993ea116ddb553e59b9
   "id": "30274a2c-d2ac-407f-8aa2-ba2cd531d044",
   "metadata": {
    "scrolled": true
   },
<<<<<<< HEAD
   "outputs": [
    {
     "data": {
      "text/plain": [
       "DistilBertForSequenceClassification(\n",
       "  (distilbert): DistilBertModel(\n",
       "    (embeddings): Embeddings(\n",
       "      (word_embeddings): Embedding(30522, 768, padding_idx=0)\n",
       "      (position_embeddings): Embedding(512, 768)\n",
       "      (LayerNorm): LayerNorm((768,), eps=1e-12, elementwise_affine=True)\n",
       "      (dropout): Dropout(p=0.1, inplace=False)\n",
       "    )\n",
       "    (transformer): Transformer(\n",
       "      (layer): ModuleList(\n",
       "        (0-5): 6 x TransformerBlock(\n",
       "          (attention): DistilBertSdpaAttention(\n",
       "            (dropout): Dropout(p=0.1, inplace=False)\n",
       "            (q_lin): Linear(in_features=768, out_features=768, bias=True)\n",
       "            (k_lin): Linear(in_features=768, out_features=768, bias=True)\n",
       "            (v_lin): Linear(in_features=768, out_features=768, bias=True)\n",
       "            (out_lin): Linear(in_features=768, out_features=768, bias=True)\n",
       "          )\n",
       "          (sa_layer_norm): LayerNorm((768,), eps=1e-12, elementwise_affine=True)\n",
       "          (ffn): FFN(\n",
       "            (dropout): Dropout(p=0.1, inplace=False)\n",
       "            (lin1): Linear(in_features=768, out_features=3072, bias=True)\n",
       "            (lin2): Linear(in_features=3072, out_features=768, bias=True)\n",
       "            (activation): GELUActivation()\n",
       "          )\n",
       "          (output_layer_norm): LayerNorm((768,), eps=1e-12, elementwise_affine=True)\n",
       "        )\n",
       "      )\n",
       "    )\n",
       "  )\n",
       "  (pre_classifier): Linear(in_features=768, out_features=768, bias=True)\n",
       "  (classifier): Linear(in_features=768, out_features=2, bias=True)\n",
       "  (dropout): Dropout(p=0.2, inplace=False)\n",
       ")"
      ]
     },
     "execution_count": 17,
     "metadata": {},
     "output_type": "execute_result"
    }
   ],
=======
   "outputs": [],
>>>>>>> dd0feb20bdd90d858cf30993ea116ddb553e59b9
   "source": [
    "model"
   ]
  },
  {
   "cell_type": "markdown",
   "id": "7d1c63e3-0e26-4af9-91db-5bec4bb7153e",
   "metadata": {},
   "source": [
    "## Fine Tuning\n",
    "We will now move on to the process of fine-tuning the model that we previously loaded from `Hugging Face`. Fine-tuning allows us to adapt the pre-trained model to our specific NLP task by further training it on task-specific data. This process enhances the model's performance and enables it to make more accurate predictions on our target task.  \n",
    "\n",
    "There are generally two approaches to fine-tuning the loaded model, each with its own advantages and considerations:  \n",
    "\n",
    "1) __Freeze all the weights besides the last two linear layers and train only those layers__:  \n",
    "This approach is commonly referred to as \"transfer learning\" or \"feature extraction.\" By freezing the weights of the majority of the model's layers, we retain the pre-trained knowledge captured by the model, allowing it to extract useful features from our data. We then replace and train the final few layers, typically linear layers, to adapt the model to our specific task. This method is beneficial when we have limited labeled data or when the pre-trained model has been trained on a similar domain.\n",
    "\n",
    "2) __Retrain all the parameters in the model__:  \n",
    "This approach involves unfreezing and training all the parameters of the loaded model, including the pre-trained layers. By retraining all the parameters, we allow the model to adjust its representations and update its knowledge based on our specific task and data. This method is often preferred when we have sufficient labeled data available and want the model to learn task-specific features from scratch or when the pre-trained model's knowledge may not be directly applicable to our domain."
   ]
  },
  {
   "cell_type": "markdown",
   "id": "33ccd1bb-7e4f-4aa0-897f-1f8d73639543",
   "metadata": {},
   "source": [
    "### Fine-tuning method 1 \n",
    "__Freeze all the weights besides the last two linear layers and train only those layers__\n",
    "\n"
   ]
  },
  {
   "cell_type": "code",
<<<<<<< HEAD
   "execution_count": 18,
=======
   "execution_count": null,
>>>>>>> dd0feb20bdd90d858cf30993ea116ddb553e59b9
   "id": "876d7a82-2233-4017-8221-26a46f9816a9",
   "metadata": {
    "editable": true,
    "slideshow": {
     "slide_type": ""
    },
    "tags": []
   },
   "outputs": [],
   "source": [
    "# TODO:\n",
    "# Freeze all parameters except for the last 2 linear layers\n",
    "# ====== YOUR CODE: ======\n",
<<<<<<< HEAD
    "# start by freezing all layers (freezing everything and then selectively unfreezing is a more robust approach)\n",
    "for name, param in model.named_parameters():\n",
    "    param.requires_grad = False # i.e, no need to modify\n",
    "\n",
    "# unfreeze the last two linear layers (only the last two are linear and thus has on of these names)\n",
    "for name, param in model.named_parameters():\n",
    "    if \"pre_classifier\" in name or \"classifier\" in name:\n",
    "        param.requires_grad = True\n",
    "# ========================\n",
    "\n",
    "# HINT: use the printed model architecture to get the layer names"
=======
    "\n",
    "# ========================\n",
    "\n",
    "# HINT: use the printed model architecture to get the layer names\n",
    "\n",
    "\n"
>>>>>>> dd0feb20bdd90d858cf30993ea116ddb553e59b9
   ]
  },
  {
   "cell_type": "markdown",
   "id": "7a6c125d-d1e9-480c-b527-ffd8e94a19ed",
   "metadata": {},
   "source": [
    "### Training \n",
    "We can use our abstract __Trainer__ class to fine-tune the model:\n",
    "We will not play around with hyperparameters in this section, as the point is to learn to fine-tune a model.   \n",
    "In addition, we do not need to send our own loss function for this loaded model (try to understand why).   \n",
    "\n",
    "__TODO__: Implement the `FineTuningTrainer` in `hw3/training.py`\n",
    "\n",
    "We will train the model for 2 epochs of 40 batches.  \n",
    "You can run this either locally or on the course servers, whichever is most comfortable for you."
   ]
  },
  {
   "cell_type": "code",
<<<<<<< HEAD
   "execution_count": 19,
   "id": "a0ed2f33-018c-4a1b-b5cc-2f9c62de89c4",
   "metadata": {},
   "outputs": [
    {
     "name": "stderr",
     "output_type": "stream",
     "text": [
      "/tmp/ipykernel_998635/1012325212.py:13: FutureWarning: You are using `torch.load` with `weights_only=False` (the current default value), which uses the default pickle module implicitly. It is possible to construct malicious pickle data which will execute arbitrary code during unpickling (See https://github.com/pytorch/pytorch/blob/main/SECURITY.md#untrusted-models for more details). In a future release, the default value for `weights_only` will be flipped to `True`. This limits the functions that could be executed during unpickling. Arbitrary objects will no longer be allowed to be loaded via this mode unless they are explicitly allowlisted by the user via `torch.serialization.add_safe_globals`. We recommend you start setting `weights_only=True` for any use case where you don't have full control of the loaded file. Please open an issue on GitHub for any issues related to this experimental feature.\n",
      "  saved_state = torch.load('finetuned_last_2.pt')\n"
     ]
    },
    {
     "name": "stdout",
     "output_type": "stream",
     "text": [
      "best acc: 84.375\n"
     ]
    }
   ],
=======
   "execution_count": null,
   "id": "a0ed2f33-018c-4a1b-b5cc-2f9c62de89c4",
   "metadata": {},
   "outputs": [],
>>>>>>> dd0feb20bdd90d858cf30993ea116ddb553e59b9
   "source": [
    "from hw3 import training\n",
    "\n",
    "optimizer = torch.optim.Adam(model.parameters(), lr = 5e-5)\n",
    "\n",
    "# fit your model\n",
    "if not os.path.exists('finetuned_last_2.pt'):\n",
    "    trainer = training.FineTuningTrainer(model, loss_fn = None, optimizer = optimizer)\n",
<<<<<<< HEAD
    "    fit_result = trainer.fit(dl_train,dl_test, checkpoints='finetuned_last_2', num_epochs=2, max_batches= 40) #TODO: UNCOMMENT\n",
=======
    "    fit_result = trainer.fit(dl_train,dl_test, checkpoints='finetuned_last_2', num_epochs=2, max_batches= 40)\n",
>>>>>>> dd0feb20bdd90d858cf30993ea116ddb553e59b9
    "    with open('fit_result_finetune_2.pkl', 'wb') as f:\n",
    "        pickle.dump(fit_result, f)\n",
    "    \n",
    "\n",
    "saved_state = torch.load('finetuned_last_2.pt')\n",
    "model.load_state_dict(saved_state['model_state']) \n",
    "best_acc = saved_state['best_acc']\n",
    "print('best acc:', best_acc)\n",
    "\n",
    "with open('fit_result_finetune_2.pkl', 'rb') as f:\n",
    "    fit_result = pickle.load(f) \n",
    "\n"
   ]
  },
  {
   "cell_type": "code",
<<<<<<< HEAD
   "execution_count": 20,
   "id": "9c6147f6-87e8-4615-af5d-310e3f3cf824",
   "metadata": {},
   "outputs": [
    {
     "data": {
      "text/plain": [
       "(<Figure size 1600x1000 with 4 Axes>,\n",
       " array([<Axes: title={'center': 'train_loss'}, xlabel='Iteration #', ylabel='Loss'>,\n",
       "        <Axes: title={'center': 'train_acc'}, xlabel='Epoch #', ylabel='Accuracy (%)'>,\n",
       "        <Axes: title={'center': 'test_loss'}, xlabel='Iteration #', ylabel='Loss'>,\n",
       "        <Axes: title={'center': 'test_acc'}, xlabel='Epoch #', ylabel='Accuracy (%)'>],\n",
       "       dtype=object))"
      ]
     },
     "execution_count": 20,
     "metadata": {},
     "output_type": "execute_result"
    },
    {
     "data": {
      "image/png": "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",
      "text/plain": [
       "<Figure size 1600x1000 with 4 Axes>"
      ]
     },
     "metadata": {},
     "output_type": "display_data"
    }
   ],
=======
   "execution_count": null,
   "id": "9c6147f6-87e8-4615-af5d-310e3f3cf824",
   "metadata": {},
   "outputs": [],
>>>>>>> dd0feb20bdd90d858cf30993ea116ddb553e59b9
   "source": [
    "plot_fit(fit_result)"
   ]
  },
  {
   "cell_type": "markdown",
   "id": "280a1dc9-4f61-43b2-bfd7-0b90a6c8edf1",
   "metadata": {},
   "source": [
    "### Fine-tuning method 2 \n",
    "__Retraining all the parameters in the model__\n",
    "\n",
    "We will reload the model to ensure that the parameters are untouched and we are starting from scratch"
   ]
  },
  {
   "cell_type": "code",
<<<<<<< HEAD
   "execution_count": 21,
=======
   "execution_count": null,
>>>>>>> dd0feb20bdd90d858cf30993ea116ddb553e59b9
   "id": "5195a86c-0ed8-4b23-8c1d-3d464c0e8783",
   "metadata": {},
   "outputs": [],
   "source": [
    "from transformers import AutoModelForSequenceClassification\n"
   ]
  },
  {
   "cell_type": "code",
<<<<<<< HEAD
   "execution_count": 22,
   "id": "2bf7042f-5a6f-4a92-9cd7-7ec368e76508",
   "metadata": {},
   "outputs": [
    {
     "name": "stderr",
     "output_type": "stream",
     "text": [
      "Some weights of DistilBertForSequenceClassification were not initialized from the model checkpoint at distilbert-base-uncased and are newly initialized: ['classifier.bias', 'classifier.weight', 'pre_classifier.bias', 'pre_classifier.weight']\n",
      "You should probably TRAIN this model on a down-stream task to be able to use it for predictions and inference.\n"
     ]
    }
   ],
=======
   "execution_count": null,
   "id": "2bf7042f-5a6f-4a92-9cd7-7ec368e76508",
   "metadata": {},
   "outputs": [],
>>>>>>> dd0feb20bdd90d858cf30993ea116ddb553e59b9
   "source": [
    "model = AutoModelForSequenceClassification.from_pretrained(\n",
    "    \"distilbert-base-uncased\", num_labels=2)"
   ]
  },
  {
   "cell_type": "code",
<<<<<<< HEAD
   "execution_count": 23,
=======
   "execution_count": null,
>>>>>>> dd0feb20bdd90d858cf30993ea116ddb553e59b9
   "id": "37b27c9c-bba4-4533-94c7-1ce9bb6ddcc6",
   "metadata": {
    "scrolled": true
   },
<<<<<<< HEAD
   "outputs": [
    {
     "data": {
      "text/plain": [
       "DistilBertForSequenceClassification(\n",
       "  (distilbert): DistilBertModel(\n",
       "    (embeddings): Embeddings(\n",
       "      (word_embeddings): Embedding(30522, 768, padding_idx=0)\n",
       "      (position_embeddings): Embedding(512, 768)\n",
       "      (LayerNorm): LayerNorm((768,), eps=1e-12, elementwise_affine=True)\n",
       "      (dropout): Dropout(p=0.1, inplace=False)\n",
       "    )\n",
       "    (transformer): Transformer(\n",
       "      (layer): ModuleList(\n",
       "        (0-5): 6 x TransformerBlock(\n",
       "          (attention): DistilBertSdpaAttention(\n",
       "            (dropout): Dropout(p=0.1, inplace=False)\n",
       "            (q_lin): Linear(in_features=768, out_features=768, bias=True)\n",
       "            (k_lin): Linear(in_features=768, out_features=768, bias=True)\n",
       "            (v_lin): Linear(in_features=768, out_features=768, bias=True)\n",
       "            (out_lin): Linear(in_features=768, out_features=768, bias=True)\n",
       "          )\n",
       "          (sa_layer_norm): LayerNorm((768,), eps=1e-12, elementwise_affine=True)\n",
       "          (ffn): FFN(\n",
       "            (dropout): Dropout(p=0.1, inplace=False)\n",
       "            (lin1): Linear(in_features=768, out_features=3072, bias=True)\n",
       "            (lin2): Linear(in_features=3072, out_features=768, bias=True)\n",
       "            (activation): GELUActivation()\n",
       "          )\n",
       "          (output_layer_norm): LayerNorm((768,), eps=1e-12, elementwise_affine=True)\n",
       "        )\n",
       "      )\n",
       "    )\n",
       "  )\n",
       "  (pre_classifier): Linear(in_features=768, out_features=768, bias=True)\n",
       "  (classifier): Linear(in_features=768, out_features=2, bias=True)\n",
       "  (dropout): Dropout(p=0.2, inplace=False)\n",
       ")"
      ]
     },
     "execution_count": 23,
     "metadata": {},
     "output_type": "execute_result"
    }
   ],
=======
   "outputs": [],
>>>>>>> dd0feb20bdd90d858cf30993ea116ddb553e59b9
   "source": [
    "model"
   ]
  },
  {
   "cell_type": "code",
<<<<<<< HEAD
   "execution_count": 24,
=======
   "execution_count": null,
>>>>>>> dd0feb20bdd90d858cf30993ea116ddb553e59b9
   "id": "95115bc4-7c7a-456c-bcbb-1017556b12a4",
   "metadata": {},
   "outputs": [],
   "source": [
    "# TODO: Make sure all the model parameters are unfrozen\n",
    "# ====== YOUR CODE: ======\n",
<<<<<<< HEAD
    "for name, param in model.named_parameters():\n",
    "    param.requires_grad = True # i.e, NEED to modify\n",
=======
    "    \n",
>>>>>>> dd0feb20bdd90d858cf30993ea116ddb553e59b9
    "# ========================"
   ]
  },
  {
   "cell_type": "code",
   "execution_count": null,
   "id": "dae4bcdb-07ec-4ad1-8eeb-ed9278498cf1",
   "metadata": {},
<<<<<<< HEAD
   "outputs": [
    {
     "name": "stdout",
     "output_type": "stream",
     "text": [
      "--- EPOCH 1/2 ---\n",
      "train_batch (Avg. Loss 0.397, Accuracy 82.7): 100%|██████████| 40/40 [22:09<00:00, 33.25s/it]\n",
      "test_batch (Avg. Loss 0.428, Accuracy 82.7): 100%|██████████| 40/40 [06:20<00:00,  9.51s/it]\n",
      "*** Saved checkpoint finetuned_all.pt at epoch 1\n",
      "--- EPOCH 2/2 ---\n",
      "train_batch (0.231):  40%|████      | 16/40 [10:05<16:07, 40.33s/it]"
     ]
    }
   ],
=======
   "outputs": [],
>>>>>>> dd0feb20bdd90d858cf30993ea116ddb553e59b9
   "source": [
    "optimizer = torch.optim.Adam(model.parameters(), lr = 5e-5)\n",
    "\n",
    "# fit your model\n",
    "if not os.path.exists('finetuned_all.pt'):\n",
    "    trainer = training.FineTuningTrainer(model, loss_fn = None, optimizer = optimizer)\n",
    "    fit_result = trainer.fit(dl_train,dl_test, checkpoints='finetuned_all', num_epochs=2, max_batches= 40)\n",
    "    with open('finetuned_all.pkl', 'wb') as f:\n",
    "        pickle.dump(fit_result, f)\n",
    "    \n",
    "\n",
    "saved_state = torch.load('finetuned_all.pt')\n",
    "model.load_state_dict(saved_state['model_state']) \n",
    "\n",
    "with open('finetuned_all.pkl', 'rb') as f:\n",
    "    fit_result = pickle.load(f)  \n"
   ]
  },
  {
   "cell_type": "code",
   "execution_count": null,
   "id": "b1891724-abac-4b07-907e-6d4eddf28f97",
   "metadata": {},
   "outputs": [],
   "source": [
    "plot_fit(fit_result)"
   ]
  },
  {
   "cell_type": "markdown",
   "id": "d45272fa-7485-442f-9b55-02e915f5996e",
   "metadata": {},
   "source": [
    "## Questions"
   ]
  },
  {
   "cell_type": "markdown",
   "id": "d08ba155-e730-40ac-b3d4-b70acce56129",
   "metadata": {},
   "source": [
    "Fill out your answers in `hw3.answers.part4_q1` and `hw3.answers.part4_q2`"
   ]
  },
  {
   "cell_type": "code",
   "execution_count": null,
   "id": "013bc948-eaaa-42b7-a9cf-e5f5907b48fa",
   "metadata": {},
   "outputs": [],
   "source": [
    "from cs236781.answers import display_answer\n",
    "import hw3.answers"
   ]
  },
  {
   "cell_type": "markdown",
   "id": "7175a5b9-f10c-40f8-ab04-a4b98cff300b",
   "metadata": {
    "tags": []
   },
   "source": [
    "### Question 1"
   ]
  },
  {
   "cell_type": "markdown",
   "id": "151329aa-8c63-4160-ba05-26b04f16671f",
   "metadata": {},
   "source": [
    "Explain the results that you got here in comparison to the results achieved in the *trained from scratch* encoder from the preivous part.  \n",
    "If one of the models performed better, why was this so?   \n",
    "Will this always be the case on any downstream task, or was this phenomenom specific to this task?\n"
   ]
  },
  {
   "cell_type": "code",
   "execution_count": null,
   "id": "2133cc62-19d4-4928-b7b6-a30bfd891b1f",
   "metadata": {
    "tags": []
   },
   "outputs": [],
   "source": [
<<<<<<< HEAD
    "display_answer(hw3.answers.part5_q1)"
=======
    "display_answer(hw3.answers.part4_q1)"
>>>>>>> dd0feb20bdd90d858cf30993ea116ddb553e59b9
   ]
  },
  {
   "cell_type": "markdown",
   "id": "d8193f04-6678-4837-b10f-517ca09436d9",
   "metadata": {},
   "source": [
    "### Question 2"
   ]
  },
  {
   "cell_type": "markdown",
   "id": "6f05c554-35ca-4229-8ec1-ca2a901c6f9a",
   "metadata": {},
   "source": [
    "Assume that when fine-tuning, instead of freezing the internal model layers and leaving the last 2 layers unfrozen, we instead froze the last layers and fine-tuned internal layers such as the multi-headed attention block .\n",
    "Would the model still be able to succesfully fine-tune to this task?   \n",
    "Or would the results be worse?  \n",
    "Explain  "
   ]
  },
  {
   "cell_type": "code",
   "execution_count": null,
   "id": "3a20da29-d63b-4c1c-a941-b44c5e22f92e",
   "metadata": {
    "tags": []
   },
   "outputs": [],
   "source": [
<<<<<<< HEAD
    "display_answer(hw3.answers.part5_q2)"
=======
    "display_answer(hw3.answers.part4_q2)"
>>>>>>> dd0feb20bdd90d858cf30993ea116ddb553e59b9
   ]
  },
  {
   "cell_type": "markdown",
   "id": "fa03b78f",
   "metadata": {},
   "source": [
    "### Question 3"
   ]
  },
  {
   "cell_type": "markdown",
   "id": "101fe16d",
   "metadata": {},
   "source": [
    "If you want to conduct a machine translation task, as seen in the tutorials, can you use BERT?\n",
    "\n",
    "Describe the modulation you need to do, i.e. if the source tokens are $x_t$ and the target are $y_t$, how would the model work to produce the translation?\n",
    "\n",
    "If the model can't handle this task, describe the architecture changes and why you need them. If a change in the pre-training is required, describe it as well."
   ]
  },
  {
   "cell_type": "code",
   "execution_count": null,
   "id": "d4d8974b",
   "metadata": {},
   "outputs": [],
   "source": [
<<<<<<< HEAD
    "display_answer(hw3.answers.part5_q3)"
=======
    "display_answer(hw3.answers.part4_q3)"
>>>>>>> dd0feb20bdd90d858cf30993ea116ddb553e59b9
   ]
  },
  {
   "cell_type": "markdown",
   "id": "da798bb4",
   "metadata": {},
   "source": [
    "### Question 4\n",
    "\n",
    "We saw in the course two types on sequntial modeling: RNN and Transformers.\n",
    "\n",
    "What could be the main reason to choose RNN over a Transformer? Note that both can be light weight or heavy in computation."
   ]
  },
  {
   "cell_type": "code",
   "execution_count": null,
   "id": "bea5b06a",
   "metadata": {},
   "outputs": [],
   "source": [
<<<<<<< HEAD
    "display_answer(hw3.answers.part5_q4)"
=======
    "display_answer(hw3.answers.part4_q4)"
>>>>>>> dd0feb20bdd90d858cf30993ea116ddb553e59b9
   ]
  },
  {
   "cell_type": "markdown",
   "id": "6138a5b5",
   "metadata": {},
   "source": [
    "### Question 5\n",
    "\n",
    "We have learned that BERT uses \"Next Sentence Prediction\" (NSP) as part of the pre-training tasks.\n",
    "\n",
    "Describe what it is (where is the prediction accure, what is the loss).\n",
    "\n",
    "Do you think this is a crucial part of pre-training? try to analize why you gave the answer, i.e. what essensity it gives to the model, or why it's implicitly don't contibute much. \n"
   ]
  },
  {
   "cell_type": "code",
   "execution_count": null,
   "id": "308d9e40",
   "metadata": {},
   "outputs": [],
   "source": [
<<<<<<< HEAD
    "display_answer(hw3.answers.part5_q5)"
=======
    "display_answer(hw3.answers.part4_q5)"
>>>>>>> dd0feb20bdd90d858cf30993ea116ddb553e59b9
   ]
  },
  {
   "cell_type": "markdown",
   "id": "03ee782f",
   "metadata": {},
   "source": []
  }
 ],
 "metadata": {
  "kernelspec": {
   "display_name": "Python 3 (ipykernel)",
   "language": "python",
   "name": "python3"
  },
  "language_info": {
   "codemirror_mode": {
    "name": "ipython",
    "version": 3
   },
   "file_extension": ".py",
   "mimetype": "text/x-python",
   "name": "python",
   "nbconvert_exporter": "python",
   "pygments_lexer": "ipython3",
<<<<<<< HEAD
   "version": "3.8.12"
=======
   "version": "3.11.0"
>>>>>>> dd0feb20bdd90d858cf30993ea116ddb553e59b9
  },
  "toc": {
   "base_numbering": 1
  }
 },
 "nbformat": 4,
 "nbformat_minor": 5
}
